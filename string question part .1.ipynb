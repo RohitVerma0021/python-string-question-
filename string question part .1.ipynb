{
 "cells": [
  {
   "cell_type": "code",
   "execution_count": 2,
   "id": "923dc5a2",
   "metadata": {},
   "outputs": [],
   "source": [
    "##Python string logic building Question"
   ]
  },
  {
   "cell_type": "code",
   "execution_count": 3,
   "id": "fbb2c048",
   "metadata": {},
   "outputs": [
    {
     "name": "stdout",
     "output_type": "stream",
     "text": [
      "Enter the string: hello i am rohit verma huerfeie\n",
      "largest number of the string:  huerfeie\n"
     ]
    }
   ],
   "source": [
    "# WAP to enter a sentence from user and print the largest word in it. using while loop\n",
    "#Example:---\n",
    "# this is an apple\n",
    "# Ans:- apple\n",
    "#Take the input \n",
    "n=input(\"Enter the string: \")\n",
    "a=n.split(\" \")\n",
    "i=0\n",
    "max_len= \"\"\n",
    "while i < len(a):\n",
    "    if len(a[i]) >len(max_len):\n",
    "        max_len=a[i]\n",
    "    i+=1\n",
    "print(\"largest number of the string: \",max_len)"
   ]
  },
  {
   "cell_type": "code",
   "execution_count": 2,
   "id": "4464dfec",
   "metadata": {},
   "outputs": [
    {
     "name": "stdout",
     "output_type": "stream",
     "text": [
      "55\n"
     ]
    }
   ],
   "source": [
    "#Basic Question\n",
    "#1. Write a Python program to calculate the length of a\n",
    "# string.\n",
    "string=\"Hello Friends i am Rohit Verma i like python programing\"\n",
    "print(len(string))"
   ]
  },
  {
   "cell_type": "code",
   "execution_count": null,
   "id": "c8852103",
   "metadata": {},
   "outputs": [],
   "source": [
    "#print revers string \n",
    "s=\"rohit\"\n",
    "print(s[-1: :-1])\n",
    "#    (Start:End:Steps)  "
   ]
  },
  {
   "cell_type": "code",
   "execution_count": 2,
   "id": "006e4eb2",
   "metadata": {},
   "outputs": [
    {
     "name": "stdout",
     "output_type": "stream",
     "text": [
      "hello\n",
      "olleh\n"
     ]
    }
   ],
   "source": [
    "# print revers string using while loop \n",
    "n=input()\n",
    "a=len(n)-1\n",
    "x=\"\"\n",
    "while a>=0:\n",
    "    x=x+n[a]\n",
    "    a-=1\n",
    "print(x)"
   ]
  },
  {
   "cell_type": "code",
   "execution_count": null,
   "id": "323a8fd3",
   "metadata": {},
   "outputs": [],
   "source": [
    "#WAP to enter a string from user and print length of the string without using len function\n",
    "n=input()\n",
    "count=0 #1,2,3,4,5\n",
    "while n[count:]: #1,\n",
    "    count=count+1\n",
    "print(count)"
   ]
  },
  {
   "cell_type": "code",
   "execution_count": 4,
   "id": "fadd4ef2",
   "metadata": {
    "collapsed": true
   },
   "outputs": [
    {
     "name": "stdout",
     "output_type": "stream",
     "text": [
      "hello\n"
     ]
    },
    {
     "ename": "TypeError",
     "evalue": "'in <string>' requires string as left operand, not dict",
     "output_type": "error",
     "traceback": [
      "\u001b[1;31m---------------------------------------------------------------------------\u001b[0m",
      "\u001b[1;31mTypeError\u001b[0m                                 Traceback (most recent call last)",
      "Input \u001b[1;32mIn [4]\u001b[0m, in \u001b[0;36m<module>\u001b[1;34m\u001b[0m\n\u001b[0;32m      8\u001b[0m i\u001b[38;5;241m=\u001b[39m\u001b[38;5;241m0\u001b[39m\n\u001b[0;32m      9\u001b[0m \u001b[38;5;28;01mwhile\u001b[39;00m i \u001b[38;5;241m<\u001b[39m \u001b[38;5;28mlen\u001b[39m(n):\n\u001b[1;32m---> 10\u001b[0m     \u001b[38;5;28;01mif\u001b[39;00m \u001b[43md\u001b[49m\u001b[43m \u001b[49m\u001b[38;5;129;43;01min\u001b[39;49;00m\u001b[43m \u001b[49m\u001b[43mn\u001b[49m\u001b[43m[\u001b[49m\u001b[43mi\u001b[49m\u001b[43m]\u001b[49m:\n\u001b[0;32m     11\u001b[0m         d\u001b[38;5;241m=\u001b[39md(n[i])\n\u001b[0;32m     12\u001b[0m     i\u001b[38;5;241m+\u001b[39m\u001b[38;5;241m=\u001b[39m\u001b[38;5;241m1\u001b[39m\n",
      "\u001b[1;31mTypeError\u001b[0m: 'in <string>' requires string as left operand, not dict"
     ]
    }
   ],
   "source": [
    "#  Write a Python program to count the number of characters\n",
    "# (character frequency) in a string.\n",
    "# Sample String : google.com'\n",
    "# Expected Result : {'g': 2, 'o': 3, 'l': 1, 'e': 1, '.': 1,\n",
    "# 'c': 1, 'm': 1}\n",
    "n=input()\n",
    "d=dict()\n",
    "i=0\n",
    "while i < len(n):\n",
    "    if d in n[i]:\n",
    "        d=d(n[i])\n",
    "    i+=1\n",
    "print(d)\n",
    "\n"
   ]
  },
  {
   "cell_type": "code",
   "execution_count": 16,
   "id": "916b0af3",
   "metadata": {},
   "outputs": [
    {
     "name": "stdout",
     "output_type": "stream",
     "text": [
      "hello\n",
      "first and last character : helo\n"
     ]
    }
   ],
   "source": [
    "# Write a Python program to get a string made of the first 2\n",
    "# and the last 2 chars from a given a string. If the string\n",
    "# length is less than 2, return instead of the empty string.\n",
    "# Sample String : 'w3resource'\n",
    "# Expected Result : 'w3ce'\n",
    "# Sample String : 'w3'\n",
    "# Expected Result : 'w3w3'\n",
    "# Sample String : ' w'\n",
    "# Expected Result : Empty String\n",
    "a=input()\n",
    "i=0\n",
    "while i < 1:\n",
    "    if len(a) > 4:\n",
    "        print(\"first and last character :\",a[0:2]+a[-2:])\n",
    "    if len(a) <= 2:\n",
    "        print(a*2)\n",
    "    if len(a) <= 1:\n",
    "        print(\"Empty\")\n",
    "    i+=1\n",
    "     "
   ]
  }
 ],
 "metadata": {
  "kernelspec": {
   "display_name": "Python 3 (ipykernel)",
   "language": "python",
   "name": "python3"
  },
  "language_info": {
   "codemirror_mode": {
    "name": "ipython",
    "version": 3
   },
   "file_extension": ".py",
   "mimetype": "text/x-python",
   "name": "python",
   "nbconvert_exporter": "python",
   "pygments_lexer": "ipython3",
   "version": "3.10.1"
  }
 },
 "nbformat": 4,
 "nbformat_minor": 5
}
